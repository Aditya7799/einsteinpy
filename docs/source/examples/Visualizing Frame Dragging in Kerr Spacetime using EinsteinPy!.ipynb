{
 "cells": [
  {
   "cell_type": "markdown",
   "metadata": {},
   "source": [
    "# Visualizing Frame Dragging in Kerr Spacetime\n",
    "\n",
    "### Importing required modules"
   ]
  },
  {
   "cell_type": "code",
   "execution_count": 1,
   "metadata": {},
   "outputs": [],
   "source": [
    "import numpy as np\n",
    "import matplotlib.pyplot as plt\n",
    "\n",
    "from einsteinpy.coordinates.utils import four_position, stacked_vec\n",
    "from einsteinpy.geodesic import Geodesic\n",
    "from einsteinpy.metric import Kerr"
   ]
  },
  {
   "cell_type": "markdown",
   "metadata": {},
   "source": [
    "### Setting up metric and intial conditions"
   ]
  },
  {
   "cell_type": "code",
   "execution_count": 2,
   "metadata": {},
   "outputs": [],
   "source": [
    "# Metric Parameters\n",
    "M, a = 1.989e30, 0.3\n",
    " # Kerr Metric Object\n",
    "ms_cov = Kerr(coords=\"BL\", M=M, a=a)\n",
    "\n",
    "# Initial conditions\n",
    "x_vec = np.array([49.95e8, np.pi / 2, np.pi])\n",
    "v_vec = np.array([0., 0., 0.])\n",
    "t = 0.\n",
    "\n",
    "# Getting Position 4-Vector\n",
    "x_4vec = four_position(t, x_vec)\n",
    "# Calculating Schwarzschild Metric at x_4vec\n",
    "ms_cov_mat = ms_cov.metric_covariant(x_4vec)\n",
    "\n",
    "# Getting stacked (Length-8) initial vector, containing 4-Pos and 4-Vel\n",
    "init_vec = stacked_vec(ms_cov_mat, t, x_vec, v_vec, time_like=True)"
   ]
  },
  {
   "cell_type": "markdown",
   "metadata": {},
   "source": [
    "### Calculating the geodesic"
   ]
  },
  {
   "cell_type": "code",
   "execution_count": 3,
   "metadata": {},
   "outputs": [],
   "source": [
    "geod = Geodesic(metric=ms_cov, init_vec=init_vec, end_lambda=33932.90, step_size=1.2)\n",
    "\n",
    "ans = geod.trajectory\n",
    "\n",
    "x, y = ans[:,1], ans[:,2]"
   ]
  },
  {
   "cell_type": "markdown",
   "metadata": {},
   "source": [
    "### Plotting the geodesic"
   ]
  },
  {
   "cell_type": "code",
   "execution_count": 4,
   "metadata": {
    "scrolled": false
   },
   "outputs": [
    {
     "data": {
      "image/png": "[encoded data removed]",
      "text/plain": [
       "<Figure size 864x720 with 1 Axes>"
      ]
     },
     "metadata": {
      "needs_background": "light"
     },
     "output_type": "display_data"
    }
   ],
   "source": [
    "%matplotlib inline\n",
    "\n",
    "fig = plt.figure(figsize=(12,10))\n",
    "plt.scatter(x, y, s=0.2)\n",
    "plt.scatter(0, 0)\n",
    "plt.show()"
   ]
  },
  {
   "cell_type": "markdown",
   "metadata": {},
   "source": [
    " As can be seen in the plot above, the test particle is dragged by the Kerr black hole."
   ]
  }
 ],
 "metadata": {
  "kernelspec": {
   "display_name": "Python 3",
   "language": "python",
   "name": "python3"
  },
  "language_info": {
   "codemirror_mode": {
    "name": "ipython",
    "version": 3
   },
   "file_extension": ".py",
   "mimetype": "text/x-python",
   "name": "python",
   "nbconvert_exporter": "python",
   "pygments_lexer": "ipython3",
   "version": "3.7.4"
  }
 },
 "nbformat": 4,
 "nbformat_minor": 2
}
